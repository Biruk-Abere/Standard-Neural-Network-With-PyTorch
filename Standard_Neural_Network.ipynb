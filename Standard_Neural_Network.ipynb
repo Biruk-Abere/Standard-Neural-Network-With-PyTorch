{
  "nbformat": 4,
  "nbformat_minor": 0,
  "metadata": {
    "colab": {
      "name": "Standard Neural Network.ipynb",
      "provenance": [],
      "collapsed_sections": []
    },
    "kernelspec": {
      "name": "python3",
      "display_name": "Python 3"
    },
    "language_info": {
      "name": "python"
    },
    "gpuClass": "standard",
    "accelerator": "GPU",
    "widgets": {
      "application/vnd.jupyter.widget-state+json": {
        "232b189076504b5387d33f81dfb181e0": {
          "model_module": "@jupyter-widgets/controls",
          "model_name": "HBoxModel",
          "model_module_version": "1.5.0",
          "state": {
            "_dom_classes": [],
            "_model_module": "@jupyter-widgets/controls",
            "_model_module_version": "1.5.0",
            "_model_name": "HBoxModel",
            "_view_count": null,
            "_view_module": "@jupyter-widgets/controls",
            "_view_module_version": "1.5.0",
            "_view_name": "HBoxView",
            "box_style": "",
            "children": [
              "IPY_MODEL_136c56c12ffe4630bbabd7360f1ed4f0",
              "IPY_MODEL_8c1b0d3ab5214b1088eca729cff164c5",
              "IPY_MODEL_49fed45ba06147ffad1442b17e5fdd57"
            ],
            "layout": "IPY_MODEL_6f8e8965bffd44ed81e7721bbc37e518"
          }
        },
        "136c56c12ffe4630bbabd7360f1ed4f0": {
          "model_module": "@jupyter-widgets/controls",
          "model_name": "HTMLModel",
          "model_module_version": "1.5.0",
          "state": {
            "_dom_classes": [],
            "_model_module": "@jupyter-widgets/controls",
            "_model_module_version": "1.5.0",
            "_model_name": "HTMLModel",
            "_view_count": null,
            "_view_module": "@jupyter-widgets/controls",
            "_view_module_version": "1.5.0",
            "_view_name": "HTMLView",
            "description": "",
            "description_tooltip": null,
            "layout": "IPY_MODEL_baa87acc365f4257bb7ab7a26298e95a",
            "placeholder": "​",
            "style": "IPY_MODEL_839931bf7484471cac850c28942950e3",
            "value": ""
          }
        },
        "8c1b0d3ab5214b1088eca729cff164c5": {
          "model_module": "@jupyter-widgets/controls",
          "model_name": "FloatProgressModel",
          "model_module_version": "1.5.0",
          "state": {
            "_dom_classes": [],
            "_model_module": "@jupyter-widgets/controls",
            "_model_module_version": "1.5.0",
            "_model_name": "FloatProgressModel",
            "_view_count": null,
            "_view_module": "@jupyter-widgets/controls",
            "_view_module_version": "1.5.0",
            "_view_name": "ProgressView",
            "bar_style": "success",
            "description": "",
            "description_tooltip": null,
            "layout": "IPY_MODEL_d11783e88bba43e1855370ca66f06185",
            "max": 9912422,
            "min": 0,
            "orientation": "horizontal",
            "style": "IPY_MODEL_e45059a28e6546c88d8210783593fbc1",
            "value": 9912422
          }
        },
        "49fed45ba06147ffad1442b17e5fdd57": {
          "model_module": "@jupyter-widgets/controls",
          "model_name": "HTMLModel",
          "model_module_version": "1.5.0",
          "state": {
            "_dom_classes": [],
            "_model_module": "@jupyter-widgets/controls",
            "_model_module_version": "1.5.0",
            "_model_name": "HTMLModel",
            "_view_count": null,
            "_view_module": "@jupyter-widgets/controls",
            "_view_module_version": "1.5.0",
            "_view_name": "HTMLView",
            "description": "",
            "description_tooltip": null,
            "layout": "IPY_MODEL_14b14fda6027464f8284b739bf64e1a4",
            "placeholder": "​",
            "style": "IPY_MODEL_8bcc75c473b1453fba3d1e5975fa5b7d",
            "value": " 9913344/? [00:00&lt;00:00, 22946456.80it/s]"
          }
        },
        "6f8e8965bffd44ed81e7721bbc37e518": {
          "model_module": "@jupyter-widgets/base",
          "model_name": "LayoutModel",
          "model_module_version": "1.2.0",
          "state": {
            "_model_module": "@jupyter-widgets/base",
            "_model_module_version": "1.2.0",
            "_model_name": "LayoutModel",
            "_view_count": null,
            "_view_module": "@jupyter-widgets/base",
            "_view_module_version": "1.2.0",
            "_view_name": "LayoutView",
            "align_content": null,
            "align_items": null,
            "align_self": null,
            "border": null,
            "bottom": null,
            "display": null,
            "flex": null,
            "flex_flow": null,
            "grid_area": null,
            "grid_auto_columns": null,
            "grid_auto_flow": null,
            "grid_auto_rows": null,
            "grid_column": null,
            "grid_gap": null,
            "grid_row": null,
            "grid_template_areas": null,
            "grid_template_columns": null,
            "grid_template_rows": null,
            "height": null,
            "justify_content": null,
            "justify_items": null,
            "left": null,
            "margin": null,
            "max_height": null,
            "max_width": null,
            "min_height": null,
            "min_width": null,
            "object_fit": null,
            "object_position": null,
            "order": null,
            "overflow": null,
            "overflow_x": null,
            "overflow_y": null,
            "padding": null,
            "right": null,
            "top": null,
            "visibility": null,
            "width": null
          }
        },
        "baa87acc365f4257bb7ab7a26298e95a": {
          "model_module": "@jupyter-widgets/base",
          "model_name": "LayoutModel",
          "model_module_version": "1.2.0",
          "state": {
            "_model_module": "@jupyter-widgets/base",
            "_model_module_version": "1.2.0",
            "_model_name": "LayoutModel",
            "_view_count": null,
            "_view_module": "@jupyter-widgets/base",
            "_view_module_version": "1.2.0",
            "_view_name": "LayoutView",
            "align_content": null,
            "align_items": null,
            "align_self": null,
            "border": null,
            "bottom": null,
            "display": null,
            "flex": null,
            "flex_flow": null,
            "grid_area": null,
            "grid_auto_columns": null,
            "grid_auto_flow": null,
            "grid_auto_rows": null,
            "grid_column": null,
            "grid_gap": null,
            "grid_row": null,
            "grid_template_areas": null,
            "grid_template_columns": null,
            "grid_template_rows": null,
            "height": null,
            "justify_content": null,
            "justify_items": null,
            "left": null,
            "margin": null,
            "max_height": null,
            "max_width": null,
            "min_height": null,
            "min_width": null,
            "object_fit": null,
            "object_position": null,
            "order": null,
            "overflow": null,
            "overflow_x": null,
            "overflow_y": null,
            "padding": null,
            "right": null,
            "top": null,
            "visibility": null,
            "width": null
          }
        },
        "839931bf7484471cac850c28942950e3": {
          "model_module": "@jupyter-widgets/controls",
          "model_name": "DescriptionStyleModel",
          "model_module_version": "1.5.0",
          "state": {
            "_model_module": "@jupyter-widgets/controls",
            "_model_module_version": "1.5.0",
            "_model_name": "DescriptionStyleModel",
            "_view_count": null,
            "_view_module": "@jupyter-widgets/base",
            "_view_module_version": "1.2.0",
            "_view_name": "StyleView",
            "description_width": ""
          }
        },
        "d11783e88bba43e1855370ca66f06185": {
          "model_module": "@jupyter-widgets/base",
          "model_name": "LayoutModel",
          "model_module_version": "1.2.0",
          "state": {
            "_model_module": "@jupyter-widgets/base",
            "_model_module_version": "1.2.0",
            "_model_name": "LayoutModel",
            "_view_count": null,
            "_view_module": "@jupyter-widgets/base",
            "_view_module_version": "1.2.0",
            "_view_name": "LayoutView",
            "align_content": null,
            "align_items": null,
            "align_self": null,
            "border": null,
            "bottom": null,
            "display": null,
            "flex": null,
            "flex_flow": null,
            "grid_area": null,
            "grid_auto_columns": null,
            "grid_auto_flow": null,
            "grid_auto_rows": null,
            "grid_column": null,
            "grid_gap": null,
            "grid_row": null,
            "grid_template_areas": null,
            "grid_template_columns": null,
            "grid_template_rows": null,
            "height": null,
            "justify_content": null,
            "justify_items": null,
            "left": null,
            "margin": null,
            "max_height": null,
            "max_width": null,
            "min_height": null,
            "min_width": null,
            "object_fit": null,
            "object_position": null,
            "order": null,
            "overflow": null,
            "overflow_x": null,
            "overflow_y": null,
            "padding": null,
            "right": null,
            "top": null,
            "visibility": null,
            "width": null
          }
        },
        "e45059a28e6546c88d8210783593fbc1": {
          "model_module": "@jupyter-widgets/controls",
          "model_name": "ProgressStyleModel",
          "model_module_version": "1.5.0",
          "state": {
            "_model_module": "@jupyter-widgets/controls",
            "_model_module_version": "1.5.0",
            "_model_name": "ProgressStyleModel",
            "_view_count": null,
            "_view_module": "@jupyter-widgets/base",
            "_view_module_version": "1.2.0",
            "_view_name": "StyleView",
            "bar_color": null,
            "description_width": ""
          }
        },
        "14b14fda6027464f8284b739bf64e1a4": {
          "model_module": "@jupyter-widgets/base",
          "model_name": "LayoutModel",
          "model_module_version": "1.2.0",
          "state": {
            "_model_module": "@jupyter-widgets/base",
            "_model_module_version": "1.2.0",
            "_model_name": "LayoutModel",
            "_view_count": null,
            "_view_module": "@jupyter-widgets/base",
            "_view_module_version": "1.2.0",
            "_view_name": "LayoutView",
            "align_content": null,
            "align_items": null,
            "align_self": null,
            "border": null,
            "bottom": null,
            "display": null,
            "flex": null,
            "flex_flow": null,
            "grid_area": null,
            "grid_auto_columns": null,
            "grid_auto_flow": null,
            "grid_auto_rows": null,
            "grid_column": null,
            "grid_gap": null,
            "grid_row": null,
            "grid_template_areas": null,
            "grid_template_columns": null,
            "grid_template_rows": null,
            "height": null,
            "justify_content": null,
            "justify_items": null,
            "left": null,
            "margin": null,
            "max_height": null,
            "max_width": null,
            "min_height": null,
            "min_width": null,
            "object_fit": null,
            "object_position": null,
            "order": null,
            "overflow": null,
            "overflow_x": null,
            "overflow_y": null,
            "padding": null,
            "right": null,
            "top": null,
            "visibility": null,
            "width": null
          }
        },
        "8bcc75c473b1453fba3d1e5975fa5b7d": {
          "model_module": "@jupyter-widgets/controls",
          "model_name": "DescriptionStyleModel",
          "model_module_version": "1.5.0",
          "state": {
            "_model_module": "@jupyter-widgets/controls",
            "_model_module_version": "1.5.0",
            "_model_name": "DescriptionStyleModel",
            "_view_count": null,
            "_view_module": "@jupyter-widgets/base",
            "_view_module_version": "1.2.0",
            "_view_name": "StyleView",
            "description_width": ""
          }
        },
        "a9049493d54d475586575385c3c558d1": {
          "model_module": "@jupyter-widgets/controls",
          "model_name": "HBoxModel",
          "model_module_version": "1.5.0",
          "state": {
            "_dom_classes": [],
            "_model_module": "@jupyter-widgets/controls",
            "_model_module_version": "1.5.0",
            "_model_name": "HBoxModel",
            "_view_count": null,
            "_view_module": "@jupyter-widgets/controls",
            "_view_module_version": "1.5.0",
            "_view_name": "HBoxView",
            "box_style": "",
            "children": [
              "IPY_MODEL_896cc844264042dd8ee717dc36fc47f5",
              "IPY_MODEL_0969e7a42ab64e18a53c86beb2965899",
              "IPY_MODEL_a9c5effa1d3545348f1f5a08a1143f15"
            ],
            "layout": "IPY_MODEL_759489dc14b84c158834b9f6bf1d677f"
          }
        },
        "896cc844264042dd8ee717dc36fc47f5": {
          "model_module": "@jupyter-widgets/controls",
          "model_name": "HTMLModel",
          "model_module_version": "1.5.0",
          "state": {
            "_dom_classes": [],
            "_model_module": "@jupyter-widgets/controls",
            "_model_module_version": "1.5.0",
            "_model_name": "HTMLModel",
            "_view_count": null,
            "_view_module": "@jupyter-widgets/controls",
            "_view_module_version": "1.5.0",
            "_view_name": "HTMLView",
            "description": "",
            "description_tooltip": null,
            "layout": "IPY_MODEL_6dd0fbe31fb94531b7275658b47777b5",
            "placeholder": "​",
            "style": "IPY_MODEL_e6b201b347a74cadbf0c260bc3cfb7c9",
            "value": ""
          }
        },
        "0969e7a42ab64e18a53c86beb2965899": {
          "model_module": "@jupyter-widgets/controls",
          "model_name": "FloatProgressModel",
          "model_module_version": "1.5.0",
          "state": {
            "_dom_classes": [],
            "_model_module": "@jupyter-widgets/controls",
            "_model_module_version": "1.5.0",
            "_model_name": "FloatProgressModel",
            "_view_count": null,
            "_view_module": "@jupyter-widgets/controls",
            "_view_module_version": "1.5.0",
            "_view_name": "ProgressView",
            "bar_style": "success",
            "description": "",
            "description_tooltip": null,
            "layout": "IPY_MODEL_5b6d57ac8c3346fabb3d498513401460",
            "max": 28881,
            "min": 0,
            "orientation": "horizontal",
            "style": "IPY_MODEL_fede531ceab344bca02ba9b2fec02883",
            "value": 28881
          }
        },
        "a9c5effa1d3545348f1f5a08a1143f15": {
          "model_module": "@jupyter-widgets/controls",
          "model_name": "HTMLModel",
          "model_module_version": "1.5.0",
          "state": {
            "_dom_classes": [],
            "_model_module": "@jupyter-widgets/controls",
            "_model_module_version": "1.5.0",
            "_model_name": "HTMLModel",
            "_view_count": null,
            "_view_module": "@jupyter-widgets/controls",
            "_view_module_version": "1.5.0",
            "_view_name": "HTMLView",
            "description": "",
            "description_tooltip": null,
            "layout": "IPY_MODEL_38b9120bf1e146768dd89dd485fd17a2",
            "placeholder": "​",
            "style": "IPY_MODEL_e1ae468978ae44419b69de66d80d623d",
            "value": " 29696/? [00:00&lt;00:00, 1020081.99it/s]"
          }
        },
        "759489dc14b84c158834b9f6bf1d677f": {
          "model_module": "@jupyter-widgets/base",
          "model_name": "LayoutModel",
          "model_module_version": "1.2.0",
          "state": {
            "_model_module": "@jupyter-widgets/base",
            "_model_module_version": "1.2.0",
            "_model_name": "LayoutModel",
            "_view_count": null,
            "_view_module": "@jupyter-widgets/base",
            "_view_module_version": "1.2.0",
            "_view_name": "LayoutView",
            "align_content": null,
            "align_items": null,
            "align_self": null,
            "border": null,
            "bottom": null,
            "display": null,
            "flex": null,
            "flex_flow": null,
            "grid_area": null,
            "grid_auto_columns": null,
            "grid_auto_flow": null,
            "grid_auto_rows": null,
            "grid_column": null,
            "grid_gap": null,
            "grid_row": null,
            "grid_template_areas": null,
            "grid_template_columns": null,
            "grid_template_rows": null,
            "height": null,
            "justify_content": null,
            "justify_items": null,
            "left": null,
            "margin": null,
            "max_height": null,
            "max_width": null,
            "min_height": null,
            "min_width": null,
            "object_fit": null,
            "object_position": null,
            "order": null,
            "overflow": null,
            "overflow_x": null,
            "overflow_y": null,
            "padding": null,
            "right": null,
            "top": null,
            "visibility": null,
            "width": null
          }
        },
        "6dd0fbe31fb94531b7275658b47777b5": {
          "model_module": "@jupyter-widgets/base",
          "model_name": "LayoutModel",
          "model_module_version": "1.2.0",
          "state": {
            "_model_module": "@jupyter-widgets/base",
            "_model_module_version": "1.2.0",
            "_model_name": "LayoutModel",
            "_view_count": null,
            "_view_module": "@jupyter-widgets/base",
            "_view_module_version": "1.2.0",
            "_view_name": "LayoutView",
            "align_content": null,
            "align_items": null,
            "align_self": null,
            "border": null,
            "bottom": null,
            "display": null,
            "flex": null,
            "flex_flow": null,
            "grid_area": null,
            "grid_auto_columns": null,
            "grid_auto_flow": null,
            "grid_auto_rows": null,
            "grid_column": null,
            "grid_gap": null,
            "grid_row": null,
            "grid_template_areas": null,
            "grid_template_columns": null,
            "grid_template_rows": null,
            "height": null,
            "justify_content": null,
            "justify_items": null,
            "left": null,
            "margin": null,
            "max_height": null,
            "max_width": null,
            "min_height": null,
            "min_width": null,
            "object_fit": null,
            "object_position": null,
            "order": null,
            "overflow": null,
            "overflow_x": null,
            "overflow_y": null,
            "padding": null,
            "right": null,
            "top": null,
            "visibility": null,
            "width": null
          }
        },
        "e6b201b347a74cadbf0c260bc3cfb7c9": {
          "model_module": "@jupyter-widgets/controls",
          "model_name": "DescriptionStyleModel",
          "model_module_version": "1.5.0",
          "state": {
            "_model_module": "@jupyter-widgets/controls",
            "_model_module_version": "1.5.0",
            "_model_name": "DescriptionStyleModel",
            "_view_count": null,
            "_view_module": "@jupyter-widgets/base",
            "_view_module_version": "1.2.0",
            "_view_name": "StyleView",
            "description_width": ""
          }
        },
        "5b6d57ac8c3346fabb3d498513401460": {
          "model_module": "@jupyter-widgets/base",
          "model_name": "LayoutModel",
          "model_module_version": "1.2.0",
          "state": {
            "_model_module": "@jupyter-widgets/base",
            "_model_module_version": "1.2.0",
            "_model_name": "LayoutModel",
            "_view_count": null,
            "_view_module": "@jupyter-widgets/base",
            "_view_module_version": "1.2.0",
            "_view_name": "LayoutView",
            "align_content": null,
            "align_items": null,
            "align_self": null,
            "border": null,
            "bottom": null,
            "display": null,
            "flex": null,
            "flex_flow": null,
            "grid_area": null,
            "grid_auto_columns": null,
            "grid_auto_flow": null,
            "grid_auto_rows": null,
            "grid_column": null,
            "grid_gap": null,
            "grid_row": null,
            "grid_template_areas": null,
            "grid_template_columns": null,
            "grid_template_rows": null,
            "height": null,
            "justify_content": null,
            "justify_items": null,
            "left": null,
            "margin": null,
            "max_height": null,
            "max_width": null,
            "min_height": null,
            "min_width": null,
            "object_fit": null,
            "object_position": null,
            "order": null,
            "overflow": null,
            "overflow_x": null,
            "overflow_y": null,
            "padding": null,
            "right": null,
            "top": null,
            "visibility": null,
            "width": null
          }
        },
        "fede531ceab344bca02ba9b2fec02883": {
          "model_module": "@jupyter-widgets/controls",
          "model_name": "ProgressStyleModel",
          "model_module_version": "1.5.0",
          "state": {
            "_model_module": "@jupyter-widgets/controls",
            "_model_module_version": "1.5.0",
            "_model_name": "ProgressStyleModel",
            "_view_count": null,
            "_view_module": "@jupyter-widgets/base",
            "_view_module_version": "1.2.0",
            "_view_name": "StyleView",
            "bar_color": null,
            "description_width": ""
          }
        },
        "38b9120bf1e146768dd89dd485fd17a2": {
          "model_module": "@jupyter-widgets/base",
          "model_name": "LayoutModel",
          "model_module_version": "1.2.0",
          "state": {
            "_model_module": "@jupyter-widgets/base",
            "_model_module_version": "1.2.0",
            "_model_name": "LayoutModel",
            "_view_count": null,
            "_view_module": "@jupyter-widgets/base",
            "_view_module_version": "1.2.0",
            "_view_name": "LayoutView",
            "align_content": null,
            "align_items": null,
            "align_self": null,
            "border": null,
            "bottom": null,
            "display": null,
            "flex": null,
            "flex_flow": null,
            "grid_area": null,
            "grid_auto_columns": null,
            "grid_auto_flow": null,
            "grid_auto_rows": null,
            "grid_column": null,
            "grid_gap": null,
            "grid_row": null,
            "grid_template_areas": null,
            "grid_template_columns": null,
            "grid_template_rows": null,
            "height": null,
            "justify_content": null,
            "justify_items": null,
            "left": null,
            "margin": null,
            "max_height": null,
            "max_width": null,
            "min_height": null,
            "min_width": null,
            "object_fit": null,
            "object_position": null,
            "order": null,
            "overflow": null,
            "overflow_x": null,
            "overflow_y": null,
            "padding": null,
            "right": null,
            "top": null,
            "visibility": null,
            "width": null
          }
        },
        "e1ae468978ae44419b69de66d80d623d": {
          "model_module": "@jupyter-widgets/controls",
          "model_name": "DescriptionStyleModel",
          "model_module_version": "1.5.0",
          "state": {
            "_model_module": "@jupyter-widgets/controls",
            "_model_module_version": "1.5.0",
            "_model_name": "DescriptionStyleModel",
            "_view_count": null,
            "_view_module": "@jupyter-widgets/base",
            "_view_module_version": "1.2.0",
            "_view_name": "StyleView",
            "description_width": ""
          }
        },
        "9ef3923ba7584962a57d763d75dd113c": {
          "model_module": "@jupyter-widgets/controls",
          "model_name": "HBoxModel",
          "model_module_version": "1.5.0",
          "state": {
            "_dom_classes": [],
            "_model_module": "@jupyter-widgets/controls",
            "_model_module_version": "1.5.0",
            "_model_name": "HBoxModel",
            "_view_count": null,
            "_view_module": "@jupyter-widgets/controls",
            "_view_module_version": "1.5.0",
            "_view_name": "HBoxView",
            "box_style": "",
            "children": [
              "IPY_MODEL_3724ad5803264205bc21927b9358446a",
              "IPY_MODEL_66d3cf81f8fc42af8fef636bae5f9127",
              "IPY_MODEL_eb4eb3b76d6e40a79651da74ab7b58bb"
            ],
            "layout": "IPY_MODEL_e7e3bed321934ec58aca00fc1620376f"
          }
        },
        "3724ad5803264205bc21927b9358446a": {
          "model_module": "@jupyter-widgets/controls",
          "model_name": "HTMLModel",
          "model_module_version": "1.5.0",
          "state": {
            "_dom_classes": [],
            "_model_module": "@jupyter-widgets/controls",
            "_model_module_version": "1.5.0",
            "_model_name": "HTMLModel",
            "_view_count": null,
            "_view_module": "@jupyter-widgets/controls",
            "_view_module_version": "1.5.0",
            "_view_name": "HTMLView",
            "description": "",
            "description_tooltip": null,
            "layout": "IPY_MODEL_9b6ff415cd854abd9e604c566fe7e020",
            "placeholder": "​",
            "style": "IPY_MODEL_688c3bb111ec47289aeb61644637080e",
            "value": ""
          }
        },
        "66d3cf81f8fc42af8fef636bae5f9127": {
          "model_module": "@jupyter-widgets/controls",
          "model_name": "FloatProgressModel",
          "model_module_version": "1.5.0",
          "state": {
            "_dom_classes": [],
            "_model_module": "@jupyter-widgets/controls",
            "_model_module_version": "1.5.0",
            "_model_name": "FloatProgressModel",
            "_view_count": null,
            "_view_module": "@jupyter-widgets/controls",
            "_view_module_version": "1.5.0",
            "_view_name": "ProgressView",
            "bar_style": "success",
            "description": "",
            "description_tooltip": null,
            "layout": "IPY_MODEL_6221f6769cdf4a17bfb140c130ab828f",
            "max": 1648877,
            "min": 0,
            "orientation": "horizontal",
            "style": "IPY_MODEL_840449cdfcb04bc6bead9bf8bb6bfe6e",
            "value": 1648877
          }
        },
        "eb4eb3b76d6e40a79651da74ab7b58bb": {
          "model_module": "@jupyter-widgets/controls",
          "model_name": "HTMLModel",
          "model_module_version": "1.5.0",
          "state": {
            "_dom_classes": [],
            "_model_module": "@jupyter-widgets/controls",
            "_model_module_version": "1.5.0",
            "_model_name": "HTMLModel",
            "_view_count": null,
            "_view_module": "@jupyter-widgets/controls",
            "_view_module_version": "1.5.0",
            "_view_name": "HTMLView",
            "description": "",
            "description_tooltip": null,
            "layout": "IPY_MODEL_3278b07ce8dc4d16af2fb2838a36f373",
            "placeholder": "​",
            "style": "IPY_MODEL_abfd842bacbc4418bf980668d16d4042",
            "value": " 1649664/? [00:00&lt;00:00, 17524484.75it/s]"
          }
        },
        "e7e3bed321934ec58aca00fc1620376f": {
          "model_module": "@jupyter-widgets/base",
          "model_name": "LayoutModel",
          "model_module_version": "1.2.0",
          "state": {
            "_model_module": "@jupyter-widgets/base",
            "_model_module_version": "1.2.0",
            "_model_name": "LayoutModel",
            "_view_count": null,
            "_view_module": "@jupyter-widgets/base",
            "_view_module_version": "1.2.0",
            "_view_name": "LayoutView",
            "align_content": null,
            "align_items": null,
            "align_self": null,
            "border": null,
            "bottom": null,
            "display": null,
            "flex": null,
            "flex_flow": null,
            "grid_area": null,
            "grid_auto_columns": null,
            "grid_auto_flow": null,
            "grid_auto_rows": null,
            "grid_column": null,
            "grid_gap": null,
            "grid_row": null,
            "grid_template_areas": null,
            "grid_template_columns": null,
            "grid_template_rows": null,
            "height": null,
            "justify_content": null,
            "justify_items": null,
            "left": null,
            "margin": null,
            "max_height": null,
            "max_width": null,
            "min_height": null,
            "min_width": null,
            "object_fit": null,
            "object_position": null,
            "order": null,
            "overflow": null,
            "overflow_x": null,
            "overflow_y": null,
            "padding": null,
            "right": null,
            "top": null,
            "visibility": null,
            "width": null
          }
        },
        "9b6ff415cd854abd9e604c566fe7e020": {
          "model_module": "@jupyter-widgets/base",
          "model_name": "LayoutModel",
          "model_module_version": "1.2.0",
          "state": {
            "_model_module": "@jupyter-widgets/base",
            "_model_module_version": "1.2.0",
            "_model_name": "LayoutModel",
            "_view_count": null,
            "_view_module": "@jupyter-widgets/base",
            "_view_module_version": "1.2.0",
            "_view_name": "LayoutView",
            "align_content": null,
            "align_items": null,
            "align_self": null,
            "border": null,
            "bottom": null,
            "display": null,
            "flex": null,
            "flex_flow": null,
            "grid_area": null,
            "grid_auto_columns": null,
            "grid_auto_flow": null,
            "grid_auto_rows": null,
            "grid_column": null,
            "grid_gap": null,
            "grid_row": null,
            "grid_template_areas": null,
            "grid_template_columns": null,
            "grid_template_rows": null,
            "height": null,
            "justify_content": null,
            "justify_items": null,
            "left": null,
            "margin": null,
            "max_height": null,
            "max_width": null,
            "min_height": null,
            "min_width": null,
            "object_fit": null,
            "object_position": null,
            "order": null,
            "overflow": null,
            "overflow_x": null,
            "overflow_y": null,
            "padding": null,
            "right": null,
            "top": null,
            "visibility": null,
            "width": null
          }
        },
        "688c3bb111ec47289aeb61644637080e": {
          "model_module": "@jupyter-widgets/controls",
          "model_name": "DescriptionStyleModel",
          "model_module_version": "1.5.0",
          "state": {
            "_model_module": "@jupyter-widgets/controls",
            "_model_module_version": "1.5.0",
            "_model_name": "DescriptionStyleModel",
            "_view_count": null,
            "_view_module": "@jupyter-widgets/base",
            "_view_module_version": "1.2.0",
            "_view_name": "StyleView",
            "description_width": ""
          }
        },
        "6221f6769cdf4a17bfb140c130ab828f": {
          "model_module": "@jupyter-widgets/base",
          "model_name": "LayoutModel",
          "model_module_version": "1.2.0",
          "state": {
            "_model_module": "@jupyter-widgets/base",
            "_model_module_version": "1.2.0",
            "_model_name": "LayoutModel",
            "_view_count": null,
            "_view_module": "@jupyter-widgets/base",
            "_view_module_version": "1.2.0",
            "_view_name": "LayoutView",
            "align_content": null,
            "align_items": null,
            "align_self": null,
            "border": null,
            "bottom": null,
            "display": null,
            "flex": null,
            "flex_flow": null,
            "grid_area": null,
            "grid_auto_columns": null,
            "grid_auto_flow": null,
            "grid_auto_rows": null,
            "grid_column": null,
            "grid_gap": null,
            "grid_row": null,
            "grid_template_areas": null,
            "grid_template_columns": null,
            "grid_template_rows": null,
            "height": null,
            "justify_content": null,
            "justify_items": null,
            "left": null,
            "margin": null,
            "max_height": null,
            "max_width": null,
            "min_height": null,
            "min_width": null,
            "object_fit": null,
            "object_position": null,
            "order": null,
            "overflow": null,
            "overflow_x": null,
            "overflow_y": null,
            "padding": null,
            "right": null,
            "top": null,
            "visibility": null,
            "width": null
          }
        },
        "840449cdfcb04bc6bead9bf8bb6bfe6e": {
          "model_module": "@jupyter-widgets/controls",
          "model_name": "ProgressStyleModel",
          "model_module_version": "1.5.0",
          "state": {
            "_model_module": "@jupyter-widgets/controls",
            "_model_module_version": "1.5.0",
            "_model_name": "ProgressStyleModel",
            "_view_count": null,
            "_view_module": "@jupyter-widgets/base",
            "_view_module_version": "1.2.0",
            "_view_name": "StyleView",
            "bar_color": null,
            "description_width": ""
          }
        },
        "3278b07ce8dc4d16af2fb2838a36f373": {
          "model_module": "@jupyter-widgets/base",
          "model_name": "LayoutModel",
          "model_module_version": "1.2.0",
          "state": {
            "_model_module": "@jupyter-widgets/base",
            "_model_module_version": "1.2.0",
            "_model_name": "LayoutModel",
            "_view_count": null,
            "_view_module": "@jupyter-widgets/base",
            "_view_module_version": "1.2.0",
            "_view_name": "LayoutView",
            "align_content": null,
            "align_items": null,
            "align_self": null,
            "border": null,
            "bottom": null,
            "display": null,
            "flex": null,
            "flex_flow": null,
            "grid_area": null,
            "grid_auto_columns": null,
            "grid_auto_flow": null,
            "grid_auto_rows": null,
            "grid_column": null,
            "grid_gap": null,
            "grid_row": null,
            "grid_template_areas": null,
            "grid_template_columns": null,
            "grid_template_rows": null,
            "height": null,
            "justify_content": null,
            "justify_items": null,
            "left": null,
            "margin": null,
            "max_height": null,
            "max_width": null,
            "min_height": null,
            "min_width": null,
            "object_fit": null,
            "object_position": null,
            "order": null,
            "overflow": null,
            "overflow_x": null,
            "overflow_y": null,
            "padding": null,
            "right": null,
            "top": null,
            "visibility": null,
            "width": null
          }
        },
        "abfd842bacbc4418bf980668d16d4042": {
          "model_module": "@jupyter-widgets/controls",
          "model_name": "DescriptionStyleModel",
          "model_module_version": "1.5.0",
          "state": {
            "_model_module": "@jupyter-widgets/controls",
            "_model_module_version": "1.5.0",
            "_model_name": "DescriptionStyleModel",
            "_view_count": null,
            "_view_module": "@jupyter-widgets/base",
            "_view_module_version": "1.2.0",
            "_view_name": "StyleView",
            "description_width": ""
          }
        },
        "15cb1521df2d4c1a8e04b1593c1e2649": {
          "model_module": "@jupyter-widgets/controls",
          "model_name": "HBoxModel",
          "model_module_version": "1.5.0",
          "state": {
            "_dom_classes": [],
            "_model_module": "@jupyter-widgets/controls",
            "_model_module_version": "1.5.0",
            "_model_name": "HBoxModel",
            "_view_count": null,
            "_view_module": "@jupyter-widgets/controls",
            "_view_module_version": "1.5.0",
            "_view_name": "HBoxView",
            "box_style": "",
            "children": [
              "IPY_MODEL_3738dbc2726b4aa7b382683fb2b3a263",
              "IPY_MODEL_c147483e45c84ff091fc5c0166837c7b",
              "IPY_MODEL_bcb9b7cc911a40b191b0b6be5eeb327b"
            ],
            "layout": "IPY_MODEL_89cb7dd590eb48b48d95d2367a1aa428"
          }
        },
        "3738dbc2726b4aa7b382683fb2b3a263": {
          "model_module": "@jupyter-widgets/controls",
          "model_name": "HTMLModel",
          "model_module_version": "1.5.0",
          "state": {
            "_dom_classes": [],
            "_model_module": "@jupyter-widgets/controls",
            "_model_module_version": "1.5.0",
            "_model_name": "HTMLModel",
            "_view_count": null,
            "_view_module": "@jupyter-widgets/controls",
            "_view_module_version": "1.5.0",
            "_view_name": "HTMLView",
            "description": "",
            "description_tooltip": null,
            "layout": "IPY_MODEL_cd40b73f4b03488b85fde8c605200fde",
            "placeholder": "​",
            "style": "IPY_MODEL_3502a039972546fea30226b6593c4d69",
            "value": ""
          }
        },
        "c147483e45c84ff091fc5c0166837c7b": {
          "model_module": "@jupyter-widgets/controls",
          "model_name": "FloatProgressModel",
          "model_module_version": "1.5.0",
          "state": {
            "_dom_classes": [],
            "_model_module": "@jupyter-widgets/controls",
            "_model_module_version": "1.5.0",
            "_model_name": "FloatProgressModel",
            "_view_count": null,
            "_view_module": "@jupyter-widgets/controls",
            "_view_module_version": "1.5.0",
            "_view_name": "ProgressView",
            "bar_style": "success",
            "description": "",
            "description_tooltip": null,
            "layout": "IPY_MODEL_30ded366600243a781e2e2981dc5b306",
            "max": 4542,
            "min": 0,
            "orientation": "horizontal",
            "style": "IPY_MODEL_68349bcda64642bd9109b559ea6f30ee",
            "value": 4542
          }
        },
        "bcb9b7cc911a40b191b0b6be5eeb327b": {
          "model_module": "@jupyter-widgets/controls",
          "model_name": "HTMLModel",
          "model_module_version": "1.5.0",
          "state": {
            "_dom_classes": [],
            "_model_module": "@jupyter-widgets/controls",
            "_model_module_version": "1.5.0",
            "_model_name": "HTMLModel",
            "_view_count": null,
            "_view_module": "@jupyter-widgets/controls",
            "_view_module_version": "1.5.0",
            "_view_name": "HTMLView",
            "description": "",
            "description_tooltip": null,
            "layout": "IPY_MODEL_f2c99b594fb747549beb1f7ec7f5c9da",
            "placeholder": "​",
            "style": "IPY_MODEL_db5754959392424d956f1172ee7c9ad6",
            "value": " 5120/? [00:00&lt;00:00, 167535.25it/s]"
          }
        },
        "89cb7dd590eb48b48d95d2367a1aa428": {
          "model_module": "@jupyter-widgets/base",
          "model_name": "LayoutModel",
          "model_module_version": "1.2.0",
          "state": {
            "_model_module": "@jupyter-widgets/base",
            "_model_module_version": "1.2.0",
            "_model_name": "LayoutModel",
            "_view_count": null,
            "_view_module": "@jupyter-widgets/base",
            "_view_module_version": "1.2.0",
            "_view_name": "LayoutView",
            "align_content": null,
            "align_items": null,
            "align_self": null,
            "border": null,
            "bottom": null,
            "display": null,
            "flex": null,
            "flex_flow": null,
            "grid_area": null,
            "grid_auto_columns": null,
            "grid_auto_flow": null,
            "grid_auto_rows": null,
            "grid_column": null,
            "grid_gap": null,
            "grid_row": null,
            "grid_template_areas": null,
            "grid_template_columns": null,
            "grid_template_rows": null,
            "height": null,
            "justify_content": null,
            "justify_items": null,
            "left": null,
            "margin": null,
            "max_height": null,
            "max_width": null,
            "min_height": null,
            "min_width": null,
            "object_fit": null,
            "object_position": null,
            "order": null,
            "overflow": null,
            "overflow_x": null,
            "overflow_y": null,
            "padding": null,
            "right": null,
            "top": null,
            "visibility": null,
            "width": null
          }
        },
        "cd40b73f4b03488b85fde8c605200fde": {
          "model_module": "@jupyter-widgets/base",
          "model_name": "LayoutModel",
          "model_module_version": "1.2.0",
          "state": {
            "_model_module": "@jupyter-widgets/base",
            "_model_module_version": "1.2.0",
            "_model_name": "LayoutModel",
            "_view_count": null,
            "_view_module": "@jupyter-widgets/base",
            "_view_module_version": "1.2.0",
            "_view_name": "LayoutView",
            "align_content": null,
            "align_items": null,
            "align_self": null,
            "border": null,
            "bottom": null,
            "display": null,
            "flex": null,
            "flex_flow": null,
            "grid_area": null,
            "grid_auto_columns": null,
            "grid_auto_flow": null,
            "grid_auto_rows": null,
            "grid_column": null,
            "grid_gap": null,
            "grid_row": null,
            "grid_template_areas": null,
            "grid_template_columns": null,
            "grid_template_rows": null,
            "height": null,
            "justify_content": null,
            "justify_items": null,
            "left": null,
            "margin": null,
            "max_height": null,
            "max_width": null,
            "min_height": null,
            "min_width": null,
            "object_fit": null,
            "object_position": null,
            "order": null,
            "overflow": null,
            "overflow_x": null,
            "overflow_y": null,
            "padding": null,
            "right": null,
            "top": null,
            "visibility": null,
            "width": null
          }
        },
        "3502a039972546fea30226b6593c4d69": {
          "model_module": "@jupyter-widgets/controls",
          "model_name": "DescriptionStyleModel",
          "model_module_version": "1.5.0",
          "state": {
            "_model_module": "@jupyter-widgets/controls",
            "_model_module_version": "1.5.0",
            "_model_name": "DescriptionStyleModel",
            "_view_count": null,
            "_view_module": "@jupyter-widgets/base",
            "_view_module_version": "1.2.0",
            "_view_name": "StyleView",
            "description_width": ""
          }
        },
        "30ded366600243a781e2e2981dc5b306": {
          "model_module": "@jupyter-widgets/base",
          "model_name": "LayoutModel",
          "model_module_version": "1.2.0",
          "state": {
            "_model_module": "@jupyter-widgets/base",
            "_model_module_version": "1.2.0",
            "_model_name": "LayoutModel",
            "_view_count": null,
            "_view_module": "@jupyter-widgets/base",
            "_view_module_version": "1.2.0",
            "_view_name": "LayoutView",
            "align_content": null,
            "align_items": null,
            "align_self": null,
            "border": null,
            "bottom": null,
            "display": null,
            "flex": null,
            "flex_flow": null,
            "grid_area": null,
            "grid_auto_columns": null,
            "grid_auto_flow": null,
            "grid_auto_rows": null,
            "grid_column": null,
            "grid_gap": null,
            "grid_row": null,
            "grid_template_areas": null,
            "grid_template_columns": null,
            "grid_template_rows": null,
            "height": null,
            "justify_content": null,
            "justify_items": null,
            "left": null,
            "margin": null,
            "max_height": null,
            "max_width": null,
            "min_height": null,
            "min_width": null,
            "object_fit": null,
            "object_position": null,
            "order": null,
            "overflow": null,
            "overflow_x": null,
            "overflow_y": null,
            "padding": null,
            "right": null,
            "top": null,
            "visibility": null,
            "width": null
          }
        },
        "68349bcda64642bd9109b559ea6f30ee": {
          "model_module": "@jupyter-widgets/controls",
          "model_name": "ProgressStyleModel",
          "model_module_version": "1.5.0",
          "state": {
            "_model_module": "@jupyter-widgets/controls",
            "_model_module_version": "1.5.0",
            "_model_name": "ProgressStyleModel",
            "_view_count": null,
            "_view_module": "@jupyter-widgets/base",
            "_view_module_version": "1.2.0",
            "_view_name": "StyleView",
            "bar_color": null,
            "description_width": ""
          }
        },
        "f2c99b594fb747549beb1f7ec7f5c9da": {
          "model_module": "@jupyter-widgets/base",
          "model_name": "LayoutModel",
          "model_module_version": "1.2.0",
          "state": {
            "_model_module": "@jupyter-widgets/base",
            "_model_module_version": "1.2.0",
            "_model_name": "LayoutModel",
            "_view_count": null,
            "_view_module": "@jupyter-widgets/base",
            "_view_module_version": "1.2.0",
            "_view_name": "LayoutView",
            "align_content": null,
            "align_items": null,
            "align_self": null,
            "border": null,
            "bottom": null,
            "display": null,
            "flex": null,
            "flex_flow": null,
            "grid_area": null,
            "grid_auto_columns": null,
            "grid_auto_flow": null,
            "grid_auto_rows": null,
            "grid_column": null,
            "grid_gap": null,
            "grid_row": null,
            "grid_template_areas": null,
            "grid_template_columns": null,
            "grid_template_rows": null,
            "height": null,
            "justify_content": null,
            "justify_items": null,
            "left": null,
            "margin": null,
            "max_height": null,
            "max_width": null,
            "min_height": null,
            "min_width": null,
            "object_fit": null,
            "object_position": null,
            "order": null,
            "overflow": null,
            "overflow_x": null,
            "overflow_y": null,
            "padding": null,
            "right": null,
            "top": null,
            "visibility": null,
            "width": null
          }
        },
        "db5754959392424d956f1172ee7c9ad6": {
          "model_module": "@jupyter-widgets/controls",
          "model_name": "DescriptionStyleModel",
          "model_module_version": "1.5.0",
          "state": {
            "_model_module": "@jupyter-widgets/controls",
            "_model_module_version": "1.5.0",
            "_model_name": "DescriptionStyleModel",
            "_view_count": null,
            "_view_module": "@jupyter-widgets/base",
            "_view_module_version": "1.2.0",
            "_view_name": "StyleView",
            "description_width": ""
          }
        }
      }
    }
  },
  "cells": [
    {
      "cell_type": "markdown",
      "source": [
        "## Standard Neural Network Implementation using MNIST Dataset"
      ],
      "metadata": {
        "id": "p5IFoPl1Boxn"
      }
    },
    {
      "cell_type": "code",
      "execution_count": 2,
      "metadata": {
        "id": "lcM39-dUZV4X"
      },
      "outputs": [],
      "source": [
        "# imports\n",
        "# create a full connected network\n",
        "# set device\n",
        "# Hyperparameters\n",
        "# Initialize network\n",
        "# Loss and optimizer\n",
        "# Train Network\n",
        "# Check accuracy on a test set to see how good our model is"
      ]
    },
    {
      "cell_type": "code",
      "source": [
        "# let's create a fully connected network\n",
        "import torch\n",
        "class Standard(torch.nn.Module):\n",
        "  def __init__(self , input_size , hidden_size , number_of_classes):\n",
        "    super(Standard , self).__init__()\n",
        "    self.linear1 = torch.nn.Linear(in_features = input_size , out_features = hidden_size)\n",
        "    self.activation1 = torch.nn.ReLU()\n",
        "    self.linear2 = torch.nn.Linear(in_features = hidden_size , out_features = number_of_classes)\n",
        "    self.activation2 = torch.nn.Sigmoid()\n",
        "  def forward(self , x):\n",
        "    x = x.view(x.size(0) , -1)\n",
        "    x = self.activation1(self.linear1(x))\n",
        "    outs = self.activation2(self.linear2(x))\n",
        "    return outs"
      ],
      "metadata": {
        "id": "J_R7nxQeaCLd"
      },
      "execution_count": 3,
      "outputs": []
    },
    {
      "cell_type": "code",
      "source": [
        "# let's create a sample network\n",
        "model = Standard(784 , 50 , 10)\n",
        "inputs = torch.rand(64 , 784)\n",
        "print(\"The shape of our mode is : \" , model(inputs).shape)"
      ],
      "metadata": {
        "colab": {
          "base_uri": "https://localhost:8080/"
        },
        "id": "rU1VQW4KbW09",
        "outputId": "76680794-d439-408f-aba6-c2079412604f"
      },
      "execution_count": 4,
      "outputs": [
        {
          "output_type": "stream",
          "name": "stdout",
          "text": [
            "The shape of our mode is :  torch.Size([64, 10])\n"
          ]
        }
      ]
    },
    {
      "cell_type": "code",
      "source": [
        "# creating a dataset\n",
        "import torch\n",
        "import torchvision\n",
        "from torchvision.transforms import transforms\n",
        "train_set= torchvision.datasets. MNIST(root = './root', train = True ,  download = True , transform = transforms.ToTensor())\n",
        "test_set = torchvision.datasets.MNIST(root = './root' , train = False , download = True , transform = transforms.ToTensor())\n",
        "\n",
        "# loading the data \n",
        "batch_size = 64\n",
        "train_loader = torch.utils.data.DataLoader(train_set , batch_size = batch_size ,shuffle = True , num_workers = 0 , pin_memory = True )\n",
        "test_loader =  torch.utils.data.DataLoader(test_set , batch_size =  batch_size , shuffle = True , num_workers = 0 , pin_memory = True)"
      ],
      "metadata": {
        "colab": {
          "base_uri": "https://localhost:8080/",
          "height": 405,
          "referenced_widgets": [
            "232b189076504b5387d33f81dfb181e0",
            "136c56c12ffe4630bbabd7360f1ed4f0",
            "8c1b0d3ab5214b1088eca729cff164c5",
            "49fed45ba06147ffad1442b17e5fdd57",
            "6f8e8965bffd44ed81e7721bbc37e518",
            "baa87acc365f4257bb7ab7a26298e95a",
            "839931bf7484471cac850c28942950e3",
            "d11783e88bba43e1855370ca66f06185",
            "e45059a28e6546c88d8210783593fbc1",
            "14b14fda6027464f8284b739bf64e1a4",
            "8bcc75c473b1453fba3d1e5975fa5b7d",
            "a9049493d54d475586575385c3c558d1",
            "896cc844264042dd8ee717dc36fc47f5",
            "0969e7a42ab64e18a53c86beb2965899",
            "a9c5effa1d3545348f1f5a08a1143f15",
            "759489dc14b84c158834b9f6bf1d677f",
            "6dd0fbe31fb94531b7275658b47777b5",
            "e6b201b347a74cadbf0c260bc3cfb7c9",
            "5b6d57ac8c3346fabb3d498513401460",
            "fede531ceab344bca02ba9b2fec02883",
            "38b9120bf1e146768dd89dd485fd17a2",
            "e1ae468978ae44419b69de66d80d623d",
            "9ef3923ba7584962a57d763d75dd113c",
            "3724ad5803264205bc21927b9358446a",
            "66d3cf81f8fc42af8fef636bae5f9127",
            "eb4eb3b76d6e40a79651da74ab7b58bb",
            "e7e3bed321934ec58aca00fc1620376f",
            "9b6ff415cd854abd9e604c566fe7e020",
            "688c3bb111ec47289aeb61644637080e",
            "6221f6769cdf4a17bfb140c130ab828f",
            "840449cdfcb04bc6bead9bf8bb6bfe6e",
            "3278b07ce8dc4d16af2fb2838a36f373",
            "abfd842bacbc4418bf980668d16d4042",
            "15cb1521df2d4c1a8e04b1593c1e2649",
            "3738dbc2726b4aa7b382683fb2b3a263",
            "c147483e45c84ff091fc5c0166837c7b",
            "bcb9b7cc911a40b191b0b6be5eeb327b",
            "89cb7dd590eb48b48d95d2367a1aa428",
            "cd40b73f4b03488b85fde8c605200fde",
            "3502a039972546fea30226b6593c4d69",
            "30ded366600243a781e2e2981dc5b306",
            "68349bcda64642bd9109b559ea6f30ee",
            "f2c99b594fb747549beb1f7ec7f5c9da",
            "db5754959392424d956f1172ee7c9ad6"
          ]
        },
        "id": "mpQNc70AyULU",
        "outputId": "c9f45db0-249c-4e47-bb29-0f7ef2b48ad9"
      },
      "execution_count": 5,
      "outputs": [
        {
          "output_type": "stream",
          "name": "stdout",
          "text": [
            "Downloading http://yann.lecun.com/exdb/mnist/train-images-idx3-ubyte.gz\n",
            "Downloading http://yann.lecun.com/exdb/mnist/train-images-idx3-ubyte.gz to ./root/MNIST/raw/train-images-idx3-ubyte.gz\n"
          ]
        },
        {
          "output_type": "display_data",
          "data": {
            "text/plain": [
              "  0%|          | 0/9912422 [00:00<?, ?it/s]"
            ],
            "application/vnd.jupyter.widget-view+json": {
              "version_major": 2,
              "version_minor": 0,
              "model_id": "232b189076504b5387d33f81dfb181e0"
            }
          },
          "metadata": {}
        },
        {
          "output_type": "stream",
          "name": "stdout",
          "text": [
            "Extracting ./root/MNIST/raw/train-images-idx3-ubyte.gz to ./root/MNIST/raw\n",
            "\n",
            "Downloading http://yann.lecun.com/exdb/mnist/train-labels-idx1-ubyte.gz\n",
            "Downloading http://yann.lecun.com/exdb/mnist/train-labels-idx1-ubyte.gz to ./root/MNIST/raw/train-labels-idx1-ubyte.gz\n"
          ]
        },
        {
          "output_type": "display_data",
          "data": {
            "text/plain": [
              "  0%|          | 0/28881 [00:00<?, ?it/s]"
            ],
            "application/vnd.jupyter.widget-view+json": {
              "version_major": 2,
              "version_minor": 0,
              "model_id": "a9049493d54d475586575385c3c558d1"
            }
          },
          "metadata": {}
        },
        {
          "output_type": "stream",
          "name": "stdout",
          "text": [
            "Extracting ./root/MNIST/raw/train-labels-idx1-ubyte.gz to ./root/MNIST/raw\n",
            "\n",
            "Downloading http://yann.lecun.com/exdb/mnist/t10k-images-idx3-ubyte.gz\n",
            "Downloading http://yann.lecun.com/exdb/mnist/t10k-images-idx3-ubyte.gz to ./root/MNIST/raw/t10k-images-idx3-ubyte.gz\n"
          ]
        },
        {
          "output_type": "display_data",
          "data": {
            "text/plain": [
              "  0%|          | 0/1648877 [00:00<?, ?it/s]"
            ],
            "application/vnd.jupyter.widget-view+json": {
              "version_major": 2,
              "version_minor": 0,
              "model_id": "9ef3923ba7584962a57d763d75dd113c"
            }
          },
          "metadata": {}
        },
        {
          "output_type": "stream",
          "name": "stdout",
          "text": [
            "Extracting ./root/MNIST/raw/t10k-images-idx3-ubyte.gz to ./root/MNIST/raw\n",
            "\n",
            "Downloading http://yann.lecun.com/exdb/mnist/t10k-labels-idx1-ubyte.gz\n",
            "Downloading http://yann.lecun.com/exdb/mnist/t10k-labels-idx1-ubyte.gz to ./root/MNIST/raw/t10k-labels-idx1-ubyte.gz\n"
          ]
        },
        {
          "output_type": "display_data",
          "data": {
            "text/plain": [
              "  0%|          | 0/4542 [00:00<?, ?it/s]"
            ],
            "application/vnd.jupyter.widget-view+json": {
              "version_major": 2,
              "version_minor": 0,
              "model_id": "15cb1521df2d4c1a8e04b1593c1e2649"
            }
          },
          "metadata": {}
        },
        {
          "output_type": "stream",
          "name": "stdout",
          "text": [
            "Extracting ./root/MNIST/raw/t10k-labels-idx1-ubyte.gz to ./root/MNIST/raw\n",
            "\n"
          ]
        }
      ]
    },
    {
      "cell_type": "code",
      "source": [
        "# set device\n",
        "def get_default_device():\n",
        "  if torch.cuda.is_available():\n",
        "    return torch.device(\"cuda\")\n",
        "  else:\n",
        "    return torch.device(\"cpu\")\n",
        "\n",
        "my_device= get_default_device()"
      ],
      "metadata": {
        "id": "90EnM_oMb8zM"
      },
      "execution_count": 6,
      "outputs": []
    },
    {
      "cell_type": "code",
      "source": [
        "def to_device(data , device):\n",
        "  return data.to(device)"
      ],
      "metadata": {
        "id": "6HkYc-WzcYJK"
      },
      "execution_count": 7,
      "outputs": []
    },
    {
      "cell_type": "code",
      "source": [
        "# let's create a Device data loader class to wrap up the data loader\n",
        "# class DeviceDataLoader():\n",
        "#   def __init__(self , loader , device):\n",
        "#     self.loader = loader\n",
        "#     self.device = device\n",
        "#   def __iter__(self):\n",
        "#     for data , labels in self.loader:\n",
        "#       yield to_device(data , self.device)\n",
        "#       yield to_device(labels , self.device)\n",
        "\n",
        "#   def __len__(self):\n",
        "#     return len(self.loader)"
      ],
      "metadata": {
        "id": "uFAoWXe6ciiB"
      },
      "execution_count": 8,
      "outputs": []
    },
    {
      "cell_type": "code",
      "source": [
        "# # let's create an object\n",
        "# train_loader = DeviceDataLoader(loader = train_loader , device = my_device)\n",
        "# test_loader = DeviceDataLoader(loader = test_loader , device =  my_device )\n",
        "# print(train_loader.device)\n",
        "# print(test_loader.device)"
      ],
      "metadata": {
        "id": "X79Tsk9ZxxhC"
      },
      "execution_count": 9,
      "outputs": []
    },
    {
      "cell_type": "code",
      "source": [
        "# Initialize the network\n",
        "input_size = 784\n",
        "hidden_size = 50\n",
        "output_size = 10\n",
        "model = Standard(input_size = input_size , hidden_size = hidden_size , number_of_classes = output_size)\n",
        "model = to_device(data = model , device = my_device)"
      ],
      "metadata": {
        "id": "UG_MCXOW2Ivd"
      },
      "execution_count": 10,
      "outputs": []
    },
    {
      "cell_type": "code",
      "source": [
        "# define the loss and the optimizer\n",
        "learning_rate = 0.01\n",
        "cross_entropy = torch.nn.CrossEntropyLoss()\n",
        "optim = torch.optim.Adam(model.parameters() , lr = learning_rate)"
      ],
      "metadata": {
        "id": "zUumH3hF3PvA"
      },
      "execution_count": 11,
      "outputs": []
    },
    {
      "cell_type": "code",
      "source": [
        "# let's train it on the MNIST dataset \n",
        "num_epochs  = 1\n",
        "num_correct = 0\n",
        "num_samples = 0\n",
        "for epochs in range(num_epochs):\n",
        "  for data,labels in train_loader:\n",
        "    data = to_device(data , my_device)\n",
        "    labels = to_device(labels , my_device)\n",
        "    prediction = model(data)\n",
        "    crossentropy_loss = torch.nn.CrossEntropyLoss()\n",
        "    loss = crossentropy_loss(prediction , labels)\n",
        "    # computing the gradients with respect to the weights\n",
        "    loss.backward()\n",
        "    # define optimizer\n",
        "    opt = torch.optim.Adam(model.parameters() , lr = 0.01)\n",
        "    # updating the weights \n",
        "    opt.step()\n",
        "    # resetting the gradients to zero\n",
        "    opt.zero_grad()\n",
        "\n",
        "    # check the correct samples\n",
        "    _,scores = prediction.max(1)\n",
        "    num_correct += (scores == labels).sum().item()\n",
        "    num_samples += labels.size(0)\n",
        "\n",
        "training_accuracy = (num_correct / num_samples)*100\n",
        "print(\"The los after one epoch is :\" , loss.item())\n",
        "print(\"print the number of correct examples :\" , num_correct)\n",
        "print(\"print the number of samples in the training set :\" , num_samples)\n",
        "print(\"The training accuracy will be :\" , training_accuracy)"
      ],
      "metadata": {
        "colab": {
          "base_uri": "https://localhost:8080/"
        },
        "id": "5MkKD6FY3xq1",
        "outputId": "1b12f20c-190e-43a0-9154-2f1b7cad15ca"
      },
      "execution_count": 12,
      "outputs": [
        {
          "output_type": "stream",
          "name": "stdout",
          "text": [
            "The los after one epoch is : 1.5497691631317139\n",
            "print the number of correct examples : 53667\n",
            "print the number of samples in the training set : 60000\n",
            "The training accuracy will be : 89.445\n"
          ]
        }
      ]
    },
    {
      "cell_type": "markdown",
      "source": [
        "There are certain layers that behave differently in training and evaluation models such as the dropout and batch normalize layer. \n",
        "\n",
        "`Dropout layer :- ` The drop out layer use for regularization , with the argument 'p' that denotes the drop probability , which is used to determine the probability of dropping the units during training. \n",
        "\n",
        "* One important point to remember is that units may drop randomly during training only , for the evaluation or inference phase , all the hidden units must be active. To ensure that the overall activations are on the same scale during training and predictions , the activations of the active neurons have to be scaled appropriately. \n",
        "\n",
        "* When calling this layer , its behaviour can be controlled via model.train() and model.eval() to specify whether this call will be made during training and during inference , when using drop out , alternating between these two modes is crucial to ensure that is behaves correctly , for instance , nodes are only randomly dropped during training not evaluation or inference.\n",
        "\n",
        "`Batch Normalization Layer :- ` The PyTorch API provides a class , nn.BatchNorm2d() that we can use a layer when defining our models. Note that the behaviour of updating the learnable parameters depends on whether the model is a training model or not , these parameters are learned only during training are then used for noramlization during evaluation. because normalization used for evaluation(testing)\n",
        "\n",
        "* Note that using the designated setting for training model.train() and evaluation model.eval() will automatically set the mode for the drop out layer and batch normalization layers and rescale appropriately so that we do not have to worry about that at all. "
      ],
      "metadata": {
        "id": "JAbG4t03Dv1W"
      }
    },
    {
      "cell_type": "markdown",
      "source": [
        "Using `with torch.no_grad():-` The validation loop looks very similar to training but is somewhat simplified. The key difference is that validation is read only , specifically the loss value returned is not used(We don't use the loss functions for gradient purpose) and weights are not updated. "
      ],
      "metadata": {
        "id": "yzmjBOhgD3Ff"
      }
    },
    {
      "cell_type": "code",
      "source": [
        "# Check the accuracy on the test set \n",
        "def check_accuracy(loader , model):\n",
        "  num_correct = 0\n",
        "  num_samples = 0\n",
        "  model.eval()\n",
        "\n",
        "  with torch.no_grad():\n",
        "    for inputs , labels in loader:\n",
        "      inputs = to_device(inputs , my_device)\n",
        "      labels = to_device(labels , my_device)\n",
        "      scores = model(inputs)\n",
        "      _ , predictions = scores.max(1)\n",
        "      num_correct += (predictions == labels).sum().item()\n",
        "      num_samples += labels.size(0)\n",
        "  \n",
        "  print(\"The accuracy of this model on the test is \")\n",
        "  acc = (num_correct / num_samples)*100\n",
        "  return acc\n",
        "\n",
        "test_accuracy = check_accuracy(test_loader , model = model)\n",
        "print(\"our test accuracy is :\" , test_accuracy)"
      ],
      "metadata": {
        "colab": {
          "base_uri": "https://localhost:8080/"
        },
        "id": "N2zbW-fg57-U",
        "outputId": "966c47b9-2e55-42e3-f48e-c6acb55f626a"
      },
      "execution_count": 13,
      "outputs": [
        {
          "output_type": "stream",
          "name": "stdout",
          "text": [
            "The accuracy of this model on the test is \n",
            "our test accuracy is : 92.63\n"
          ]
        }
      ]
    },
    {
      "cell_type": "code",
      "source": [
        "# let train our model for multiple epochs \n",
        "num_of_epochs = 100\n",
        "for epochs in range(num_of_epochs):\n",
        "  for batch_idxs , (inputs , labels) in enumerate(train_loader):\n",
        "    inputs = to_device(inputs , my_device)\n",
        "    labels = to_device(labels , my_device)\n",
        "    predictions = model(inputs)\n",
        "    loss = cross_entropy(predictions , labels)\n",
        "    # compute the gradients w.r.t the weights \n",
        "    loss.backward()\n",
        "    # update the weights\n",
        "    optim.step()\n",
        "    # resetting the gradients\n",
        "    optim.zero_grad()\n",
        "    # check the correct samples\n",
        "    _,scores = predictions.max(1)\n",
        "    num_correct += (scores == labels).sum().item()\n",
        "    num_samples += labels.size(0)\n",
        "  # print(\"Print the progress\")\n",
        "  if(epochs+1)%10==0:\n",
        "      print('Epoch [{}/{}], loss:{:.4f}'.format(epochs+1 , num_of_epochs , loss.item()))\n",
        "      \n",
        "training_accuracy = (num_correct / num_samples)*100\n",
        "\n",
        "print(\"The number of correct examples after 100 epochs is :\" , num_correct)\n",
        "print(\"The number of samples in the training set is :\" , num_samples)\n",
        "print(\"The training accuracy after 100 epochs is :\" , training_accuracy)"
      ],
      "metadata": {
        "colab": {
          "base_uri": "https://localhost:8080/"
        },
        "id": "rxwR_ub24Fce",
        "outputId": "da082c24-7bd5-445a-e5d4-1fd95cdf9093"
      },
      "execution_count": 14,
      "outputs": [
        {
          "output_type": "stream",
          "name": "stdout",
          "text": [
            "Epoch [10/100], loss:1.5214\n",
            "Epoch [20/100], loss:1.4955\n",
            "Epoch [30/100], loss:1.4820\n",
            "Epoch [40/100], loss:1.5010\n",
            "Epoch [50/100], loss:1.4697\n",
            "Epoch [60/100], loss:1.4654\n",
            "Epoch [70/100], loss:1.5010\n",
            "Epoch [80/100], loss:1.4654\n",
            "Epoch [90/100], loss:1.4654\n",
            "Epoch [100/100], loss:1.5052\n",
            "The number of correct examples after 100 epochs is : 5711001\n",
            "The number of samples in the training set is : 6060000\n",
            "The training accuracy after 100 epochs is : 94.24094059405941\n"
          ]
        }
      ]
    },
    {
      "cell_type": "code",
      "source": [
        "# lets test our model's accuray on a test set after 100 epochs\n",
        "test_accuracy = check_accuracy(test_loader , model = model)\n",
        "print(\"our test accuracy is :\" , test_accuracy)"
      ],
      "metadata": {
        "colab": {
          "base_uri": "https://localhost:8080/"
        },
        "id": "2O0yQYQjAdC-",
        "outputId": "b1bb7677-ea5f-46d9-af3f-3dc19f7e4ba7"
      },
      "execution_count": 15,
      "outputs": [
        {
          "output_type": "stream",
          "name": "stdout",
          "text": [
            "The accuracy of this model on the test is \n",
            "our test accuracy is : 94.56\n"
          ]
        }
      ]
    },
    {
      "cell_type": "code",
      "source": [
        ""
      ],
      "metadata": {
        "id": "aEsdvqKGbACt"
      },
      "execution_count": 15,
      "outputs": []
    }
  ]
}